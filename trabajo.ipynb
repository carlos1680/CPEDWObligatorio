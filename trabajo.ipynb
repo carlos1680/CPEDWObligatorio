{
 "cells": [
  {
   "cell_type": "markdown",
   "metadata": {},
   "source": [
    "**OBLIGATORIO FINAL G448 - Data Wrangling**\n",
    "<br>**INTEGRANTES:**\n",
    "<br>\n",
    "+ Theo Pereira, 5703834-3, theopereira2001@gmail.com\n",
    "+ Carlos Píriz, 4298784-4, piriz.carlos@gmail.com\n",
    "+ Gabriel\tBetter,3138871-2, gabrielbetter@gmail.com"
   ]
  },
  {
   "cell_type": "code",
   "execution_count": null,
   "metadata": {},
   "outputs": [],
   "source": [
    "### Importacion de librerias ###\n",
    "\n",
    "# Sistema\n",
    "import os\n",
    "\n",
    "# Tratamiento de datos\n",
    "import pandas as pd\n",
    "import numpy as np\n",
    "import datetime as dt\n",
    "import math\n",
    "\n",
    "from fuzzywuzzy import fuzz\n",
    "from fuzzywuzzy import process\n",
    "\n",
    "import re\n",
    "\n",
    "# Visualizacion \n",
    "import seaborn as sns\n",
    "import matplotlib as mpl\n",
    "from matplotlib import ticker\n",
    "from matplotlib.ticker import FuncFormatter\n",
    "from babel.numbers import format_currency\n",
    "import matplotlib.pyplot as plt\n",
    "%matplotlib inline"
   ]
  },
  {
   "cell_type": "markdown",
   "metadata": {},
   "source": [
    "**CONSIGNAS**\n",
    "<br>\n",
    "El objetivo general es realizar un análisis exploratorio de los anuncios inmobiliarios de\n",
    "algunas provincias de la Patagonia Argentina reportados por el portal Airbnb.\n",
    "<br>\n",
    "Los datos están conformados por cuatro archivos csv:\n",
    "+ Neuquen.csv\n",
    "+ Rio_Negro.csv\n",
    "+ Chubut.csv\n",
    "+ Tierra_del_Fuego.csv"
   ]
  },
  {
   "cell_type": "markdown",
   "metadata": {},
   "source": [
    "**<h1>1. Carga de datos y armado del dataset</h1>**"
   ]
  },
  {
   "cell_type": "code",
   "execution_count": null,
   "metadata": {},
   "outputs": [],
   "source": [
    "# Carga de archivos de datos de chubut\n",
    "df_chubut = pd.read_csv('https://raw.githubusercontent.com/carlos1680/CPEDWObligatorio/main/Chubut.csv')\n",
    "df_chubut[\"provincia\"]=\"CHUBUT\"\n",
    "df_chubut.sample(10)"
   ]
  },
  {
   "cell_type": "code",
   "execution_count": null,
   "metadata": {},
   "outputs": [],
   "source": [
    "# Carga de archivos de datos de Neuquen\n",
    "df_neuquen = pd.read_csv('https://raw.githubusercontent.com/carlos1680/CPEDWObligatorio/main/Neuquen.csv')\n",
    "\n",
    "df_neuquen[\"provincia\"] = \"NEUQUEN\"\n",
    "\n",
    "df_neuquen.sample(10)"
   ]
  },
  {
   "cell_type": "code",
   "execution_count": null,
   "metadata": {},
   "outputs": [],
   "source": [
    "# Carga de archivos de datos de Rio Negro\n",
    "df_rio_negro = pd.read_csv('https://raw.githubusercontent.com/carlos1680/CPEDWObligatorio/main/Rio_Negro.csv')\n",
    "\n",
    "df_rio_negro[\"provincia\"] = \"RIO NEGRO\"\n",
    "\n",
    "df_rio_negro.sample(10)"
   ]
  },
  {
   "cell_type": "code",
   "execution_count": null,
   "metadata": {},
   "outputs": [],
   "source": [
    "# Carga de archivos de datos de Tierra delFuego\n",
    "df_tierra_del_fuego = pd.read_csv('https://raw.githubusercontent.com/carlos1680/CPEDWObligatorio/main/Tierra_del_Fuego.csv')\n",
    "\n",
    "df_tierra_del_fuego[\"provincia\"] = \"TIERRA DEL FUEGO\"\n",
    "\n",
    "df_tierra_del_fuego.sample(10)"
   ]
  },
  {
   "cell_type": "code",
   "execution_count": null,
   "metadata": {},
   "outputs": [],
   "source": [
    "# Verificacion de columnas para concatenar\n",
    "(df_chubut.columns == df_neuquen.columns) & (df_rio_negro.columns == df_tierra_del_fuego.columns) & (df_chubut.columns == df_tierra_del_fuego.columns)"
   ]
  },
  {
   "cell_type": "code",
   "execution_count": null,
   "metadata": {},
   "outputs": [],
   "source": [
    "# Concatenacion de los dataframes separados por provincias en un unico archivo\n",
    "df_alquileres = pd.concat([df_chubut, df_neuquen, df_rio_negro, df_tierra_del_fuego])\n",
    "df_alquileres.sample(10)"
   ]
  },
  {
   "cell_type": "code",
   "execution_count": null,
   "metadata": {},
   "outputs": [],
   "source": [
    "# Reseteo del index, permitiendo duplicados porque aun no sabemos si son unicos los valores\n",
    "# df_alquileres.reset_index(names = 'id_alojamiento', drop=True,inplace=True,allow_duplicates= True)\n",
    "# df_alquileres.reset_index(names = 'id_alojamiento', drop=True,inplace=True,allow_duplicates= False)\n",
    "df_alquileres.reset_index(drop=True,inplace=True)"
   ]
  },
  {
   "cell_type": "markdown",
   "metadata": {},
   "source": [
    "*Verificacion de filas de los dataframes*"
   ]
  },
  {
   "cell_type": "code",
   "execution_count": null,
   "metadata": {},
   "outputs": [],
   "source": [
    "# Verificacion de la cantidad de filas de cada dataframe\n",
    "print(\"La cantidad de filas del dataframe de Chubut es:\"+str(df_chubut.shape[0]))\n",
    "print(\"La cantidad de filas del dataframe de Neuquen es:\"+str(df_neuquen.shape[0]))\n",
    "print(\"La cantidad de filas del dataframe de Rio Negro es:\"+str(df_rio_negro.shape[0]))\n",
    "print(\"La cantidad de filas del dataframe de Tierra del fuego es:\" + str(df_tierra_del_fuego.shape[0]))\n",
    "print(\"La cantidad de filas del dataframe unificado de alquileres es:\" + str(df_alquileres.shape[0]))\n"
   ]
  },
  {
   "cell_type": "markdown",
   "metadata": {},
   "source": [
    "*Verificacion de las columnas de los dataframes*"
   ]
  },
  {
   "cell_type": "code",
   "execution_count": null,
   "metadata": {},
   "outputs": [],
   "source": [
    "# Verificacion de la cantidad de columnas de cada dataframe\n",
    "print(\"La cantidad de columnas del dataframe de Chubut es:\" +\n",
    "      str(df_chubut.shape[1]))\n",
    "print(\"La cantidad de columnas del dataframe de Neuquen es:\" +\n",
    "      str(df_neuquen.shape[1]))\n",
    "print(\"La cantidad de columnas del dataframe de Rio Negro es:\" +\n",
    "      str(df_rio_negro.shape[1]))\n",
    "print(\"La cantidad de columnas del dataframe de Tierra del fuego es:\" +\n",
    "      str(df_tierra_del_fuego.shape[1]))\n",
    "print(\"La cantidad de columnas del dataframe unificado de alquileres es:\" +\n",
    "      str(df_alquileres.shape[1]))"
   ]
  },
  {
   "cell_type": "markdown",
   "metadata": {},
   "source": [
    "*Verificacion general e inicial del dataframe unificado*"
   ]
  },
  {
   "cell_type": "code",
   "execution_count": null,
   "metadata": {},
   "outputs": [],
   "source": [
    "# Informacion de las columnas, sus tipos y faltantes\n",
    "df_alquileres.info()"
   ]
  },
  {
   "cell_type": "code",
   "execution_count": null,
   "metadata": {},
   "outputs": [],
   "source": [
    "# Informacion de las columnas, sus tipos y faltantes\n",
    "df_alquileres.describe()"
   ]
  },
  {
   "cell_type": "code",
   "execution_count": null,
   "metadata": {},
   "outputs": [],
   "source": [
    "# Informacion de las columnas, sus tipos y faltantes\n",
    "df_alquileres.duplicated(keep=\"first\").sum()"
   ]
  },
  {
   "cell_type": "code",
   "execution_count": null,
   "metadata": {},
   "outputs": [],
   "source": [
    "# Informacion de las columnas, sus tipos y faltantes\n",
    "df_alquileres.isna().sum()"
   ]
  },
  {
   "cell_type": "markdown",
   "metadata": {},
   "source": [
    "*Conclusiones iniciales*\n",
    "<br>\n",
    "+ El dataframe unificado, coincide en cantidad de filas y columnas correspondientes a los dataframes individuales\n",
    "+ Debemos de corregir algunos tipos de datos de columnas\n",
    "+ Tenemos algunas columnas para reescalar\n",
    "+ Tenemos filas duplicadas para revisar\n",
    "+ Tenemos valores nulos para revisar, en principio para las columnas rating y price_discounted"
   ]
  },
  {
   "cell_type": "markdown",
   "metadata": {},
   "source": [
    "**<h1>2. Análisis de duplicados</h1>**"
   ]
  },
  {
   "cell_type": "markdown",
   "metadata": {},
   "source": [
    "*Analisis y tratamiento de duplicados global*"
   ]
  },
  {
   "cell_type": "code",
   "execution_count": null,
   "metadata": {},
   "outputs": [],
   "source": [
    "# Verifico los duplicados, que coinciden en toda la fila\n",
    "df_alquileres.duplicated(keep=\"first\").sum()"
   ]
  },
  {
   "cell_type": "code",
   "execution_count": null,
   "metadata": {},
   "outputs": [],
   "source": [
    "#  Listo los valores duplicados\n",
    "df_alquileres[df_alquileres.duplicated(keep=\"first\")]"
   ]
  },
  {
   "cell_type": "code",
   "execution_count": null,
   "metadata": {},
   "outputs": [],
   "source": [
    "# Elimino los duplicados, que coinciden en toda la fila\n",
    "df_alquileres.drop_duplicates(keep=\"first\", inplace=True)\n",
    "df_alquileres.shape"
   ]
  },
  {
   "cell_type": "markdown",
   "metadata": {},
   "source": [
    "*Analisis y tratamiento de duplicados por columna*"
   ]
  },
  {
   "cell_type": "markdown",
   "metadata": {},
   "source": [
    "+ Columna 1: id_alojamiento"
   ]
  },
  {
   "cell_type": "code",
   "execution_count": null,
   "metadata": {},
   "outputs": [],
   "source": [
    "# Busco si hay duplicados\n",
    "df_alquileres['id_alojamiento'].duplicated(keep='first').sum()"
   ]
  },
  {
   "cell_type": "code",
   "execution_count": null,
   "metadata": {},
   "outputs": [],
   "source": [
    "# Identifico filas con esos valores duplicados\n",
    "df_alquileres[df_alquileres['id_alojamiento'].duplicated(keep='first')]"
   ]
  },
  {
   "cell_type": "code",
   "execution_count": null,
   "metadata": {},
   "outputs": [],
   "source": [
    "# Muestro las filas que corresponden a los valores duplicados, todas\n",
    "df_alquileres[df_alquileres['id_alojamiento'] == 53729814]"
   ]
  },
  {
   "cell_type": "markdown",
   "metadata": {},
   "source": [
    "-> Analisis de los valores de las filas duplicadas."
   ]
  },
  {
   "cell_type": "code",
   "execution_count": null,
   "metadata": {},
   "outputs": [],
   "source": [
    "#Verificamos los valores \n",
    "df_alquileres.loc[647]"
   ]
  },
  {
   "cell_type": "code",
   "execution_count": null,
   "metadata": {},
   "outputs": [],
   "source": [
    "# Verificamos los valores\n",
    "df_alquileres.loc[648]"
   ]
  },
  {
   "cell_type": "code",
   "execution_count": null,
   "metadata": {},
   "outputs": [],
   "source": [
    "# Verificamos los valores para la variable que tendria fiferencia\n",
    "df_alquileres.loc[647][\"characteristics\"]"
   ]
  },
  {
   "cell_type": "code",
   "execution_count": null,
   "metadata": {},
   "outputs": [],
   "source": [
    "# Verificamos los valores para la variable que tendria fiferencia\n",
    "df_alquileres.loc[648][\"characteristics\"]"
   ]
  },
  {
   "cell_type": "markdown",
   "metadata": {},
   "source": [
    "*ACCION:*\n",
    "<BR>\n",
    "*Vemos que seria el mismo registro con excepcion de la serie characteristics, donde tiene agregada comentario de calificacion*\n",
    "<br>\n",
    "*Como consideramos que cada valor de id_alojamiento, deberia ser unico, eliminamos el que consideramos repetido y menos se adecua a los valores esperados por serie*"
   ]
  },
  {
   "cell_type": "code",
   "execution_count": null,
   "metadata": {},
   "outputs": [],
   "source": [
    "# Descartamos el registro que no tiene agregado el comentario de la calificacion\n",
    "df_alquileres.drop([648], inplace=True)\n",
    "df_alquileres[df_alquileres['id_alojamiento'] == 53729814]"
   ]
  },
  {
   "cell_type": "markdown",
   "metadata": {},
   "source": [
    "+ Columna 2: name"
   ]
  },
  {
   "cell_type": "code",
   "execution_count": null,
   "metadata": {},
   "outputs": [],
   "source": [
    "# Verifico los duplicados, que coinciden en toda la fila\n",
    "df_alquileres['name'].duplicated(keep=\"first\").sum()"
   ]
  },
  {
   "cell_type": "code",
   "execution_count": null,
   "metadata": {},
   "outputs": [],
   "source": [
    "# Verifico los duplicados, que coinciden en toda la fila\n",
    "df_alquileres[df_alquileres['name'].duplicated(keep=\"first\")]"
   ]
  },
  {
   "cell_type": "code",
   "execution_count": null,
   "metadata": {},
   "outputs": [],
   "source": [
    "df_alquileres[df_alquileres['name'].str.contains('Vista al Lago en el Bosque - Hab Compartida')]"
   ]
  },
  {
   "cell_type": "markdown",
   "metadata": {},
   "source": [
    "*ACCION:*\n",
    "<br>\n",
    "*En este caso vemos que los nombre coinciden pero, pueden corresponder a diferentes lugares, de hecho, estan sobre diferentes calles, segun sus coordenadas.*\n",
    "<br>\n",
    "*Por tal motivo los dejamos a ambos registros*"
   ]
  },
  {
   "cell_type": "markdown",
   "metadata": {},
   "source": [
    "+ Columna 3: category"
   ]
  },
  {
   "cell_type": "code",
   "execution_count": null,
   "metadata": {},
   "outputs": [],
   "source": [
    "# Verifico los duplicados, que coinciden en toda la fila\n",
    "df_alquileres['category'].duplicated(keep=\"first\").sum()"
   ]
  },
  {
   "cell_type": "code",
   "execution_count": null,
   "metadata": {},
   "outputs": [],
   "source": [
    "# Listo los duplicados segun category\n",
    "df_alquileres[df_alquileres['category'].duplicated(keep=\"first\")].sample(10)"
   ]
  },
  {
   "cell_type": "markdown",
   "metadata": {},
   "source": [
    "*ACCION:*\n",
    "<br>\n",
    "*Entendemos que los valores de categoria se pueden repetir para los diferentes alquileres*\n",
    "<br>\n",
    "*por lo cual, no realizamos ninguna accion en base a esta columna*"
   ]
  },
  {
   "cell_type": "markdown",
   "metadata": {},
   "source": [
    "+ Columna 4: rating"
   ]
  },
  {
   "cell_type": "code",
   "execution_count": null,
   "metadata": {},
   "outputs": [],
   "source": [
    "# Verifico los duplicado\n",
    "df_alquileres['rating'].duplicated(keep=\"first\").sum()"
   ]
  },
  {
   "cell_type": "code",
   "execution_count": null,
   "metadata": {},
   "outputs": [],
   "source": [
    "# Listamos algunas filas, repetidas por rating\n",
    "df_alquileres[df_alquileres['rating'].duplicated(keep=\"first\")].sample(10)"
   ]
  },
  {
   "cell_type": "code",
   "execution_count": null,
   "metadata": {},
   "outputs": [],
   "source": [
    "df_alquileres['rating'].unique()"
   ]
  },
  {
   "cell_type": "markdown",
   "metadata": {},
   "source": [
    "*ACCION:*\n",
    "<br>\n",
    "*Entendemos que los valores de rating se pueden repetir para los diferentes alquileres*\n",
    "<br>\n",
    "*Por lo cual, dejamos los registros retpetidos segun esta columna*"
   ]
  },
  {
   "cell_type": "markdown",
   "metadata": {},
   "source": [
    "+ Columna 5: city"
   ]
  },
  {
   "cell_type": "code",
   "execution_count": null,
   "metadata": {},
   "outputs": [],
   "source": [
    "# Verifico los duplicados, que coinciden en toda la fila\n",
    "df_alquileres['city'].duplicated(keep=\"first\").sum()"
   ]
  },
  {
   "cell_type": "code",
   "execution_count": null,
   "metadata": {},
   "outputs": [],
   "source": [
    "# Listamos repetidos, por city\n",
    "df_alquileres[df_alquileres['city'].duplicated(keep=\"first\")]"
   ]
  },
  {
   "cell_type": "markdown",
   "metadata": {},
   "source": [
    "*ACCION:*\n",
    "<br>\n",
    "*Entendemos que la columna city, puede tener valores iguales para las diferentes observaciones*\n",
    "<br>\n",
    "*Por lo cual, no eliminamos segun los repetidos basados en esta columna*"
   ]
  },
  {
   "cell_type": "markdown",
   "metadata": {},
   "source": [
    "+ Columna 6: latitude"
   ]
  },
  {
   "cell_type": "code",
   "execution_count": null,
   "metadata": {},
   "outputs": [],
   "source": [
    "# Verificamos los duplicados\n",
    "df_alquileres['latitude'].duplicated(keep=\"first\").sum()"
   ]
  },
  {
   "cell_type": "code",
   "execution_count": null,
   "metadata": {},
   "outputs": [],
   "source": [
    "# Listamos algunos de los duplicados\n",
    "df_alquileres[df_alquileres['latitude'].duplicated(keep=\"first\")].sample(10)"
   ]
  },
  {
   "cell_type": "code",
   "execution_count": null,
   "metadata": {},
   "outputs": [],
   "source": [
    "# Vemos un ejemplo\n",
    "df_alquileres[df_alquileres['latitude'] == -54.803600]"
   ]
  },
  {
   "cell_type": "markdown",
   "metadata": {},
   "source": [
    "*ACCION:*\n",
    "<br>\n",
    "*Entendemos que la columna latitude, puede tener valores iguales para las diferentes observaciones*\n",
    "<br>\n",
    "*Por lo cual, no eliminamos segun los repetidos basados en esta columna*"
   ]
  },
  {
   "cell_type": "markdown",
   "metadata": {},
   "source": [
    "+ Columna 7: longitude"
   ]
  },
  {
   "cell_type": "code",
   "execution_count": null,
   "metadata": {},
   "outputs": [],
   "source": [
    "# Verificamos los duplicados\n",
    "df_alquileres['longitude'].duplicated(keep=\"first\").sum()"
   ]
  },
  {
   "cell_type": "code",
   "execution_count": null,
   "metadata": {},
   "outputs": [],
   "source": [
    "# Listamos algunos de los duplicados\n",
    "df_alquileres[df_alquileres['longitude'].duplicated(keep=\"first\")].sample(10)"
   ]
  },
  {
   "cell_type": "code",
   "execution_count": null,
   "metadata": {},
   "outputs": [],
   "source": [
    "# Vemos un ejemplo\n",
    "df_alquileres[df_alquileres['longitude'] == -65.029470]"
   ]
  },
  {
   "cell_type": "markdown",
   "metadata": {},
   "source": [
    "*ACCION:*\n",
    "<br>\n",
    "*Entendemos que la columna longitude, puede tener valores iguales para las diferentes observaciones*\n",
    "<br>\n",
    "*Por lo cual, no eliminamos segun los repetidos basados en esta columna*"
   ]
  },
  {
   "cell_type": "markdown",
   "metadata": {},
   "source": [
    "+ Columan 8: characteristics"
   ]
  },
  {
   "cell_type": "code",
   "execution_count": null,
   "metadata": {},
   "outputs": [],
   "source": [
    "# Verificamos los duplicados\n",
    "df_alquileres['characteristics'].duplicated(keep=\"first\").sum()"
   ]
  },
  {
   "cell_type": "code",
   "execution_count": null,
   "metadata": {},
   "outputs": [],
   "source": [
    "# Listamos algunos de los duplicados\n",
    "df_alquileres[df_alquileres['characteristics'].duplicated(\n",
    "    keep=\"first\")].sample(10)"
   ]
  },
  {
   "cell_type": "markdown",
   "metadata": {},
   "source": [
    "*ACCION:*\n",
    "<br>\n",
    "*Entendemos que la columna characteristics, puede tener valores iguales para las diferentes observaciones*\n",
    "<br>\n",
    "*Por lo cual, no eliminamos segun los repetidos basados en esta columna*"
   ]
  },
  {
   "cell_type": "markdown",
   "metadata": {},
   "source": [
    "+ Columna 9: check_in"
   ]
  },
  {
   "cell_type": "code",
   "execution_count": null,
   "metadata": {},
   "outputs": [],
   "source": [
    "# Verificamos la cantidad de duplicados por esta columna\n",
    "df_alquileres['check_in'].duplicated(keep=\"first\").sum()"
   ]
  },
  {
   "cell_type": "markdown",
   "metadata": {},
   "source": [
    "*ACCION:*\n",
    "<br>\n",
    "*Entendemos que la columna check_in, puede tener valores iguales para las diferentes observaciones*\n",
    "<br>\n",
    "*Por lo cual, no eliminamos segun los repetidos basados en esta columna*"
   ]
  },
  {
   "cell_type": "markdown",
   "metadata": {},
   "source": [
    "+ Columna 10: check_out"
   ]
  },
  {
   "cell_type": "code",
   "execution_count": null,
   "metadata": {},
   "outputs": [],
   "source": [
    "# Verificamos la cantidad de duplicados por esta columna\n",
    "df_alquileres['check_out'].duplicated(keep=\"first\").sum()"
   ]
  },
  {
   "cell_type": "markdown",
   "metadata": {},
   "source": [
    "*ACCION:*\n",
    "<br>\n",
    "*Entendemos que la columna check_out, puede tener valores iguales para las diferentes observaciones*\n",
    "<br>\n",
    "*Por lo cual, no eliminamos segun los repetidos basados en esta columna*"
   ]
  },
  {
   "cell_type": "markdown",
   "metadata": {},
   "source": [
    "+ Columna 11: price_discounted"
   ]
  },
  {
   "cell_type": "code",
   "execution_count": null,
   "metadata": {},
   "outputs": [],
   "source": [
    "# Verificamos la cantidad de duplicados por esta columna\n",
    "df_alquileres['price_discounted'].duplicated(keep=\"first\").sum()"
   ]
  },
  {
   "cell_type": "markdown",
   "metadata": {},
   "source": [
    "*ACCION:*\n",
    "<br>\n",
    "*Entendemos que la columna price_discounted, puede tener valores iguales para las diferentes observaciones*\n",
    "<br>\n",
    "*Por lo cual, no eliminamos segun los repetidos basados en esta columna*"
   ]
  },
  {
   "cell_type": "markdown",
   "metadata": {},
   "source": [
    "+ Columna 12: price_original"
   ]
  },
  {
   "cell_type": "code",
   "execution_count": null,
   "metadata": {},
   "outputs": [],
   "source": [
    "# Verificamos la cantidad de duplicados por esta columna\n",
    "df_alquileres['price_original'].duplicated(keep=\"first\").sum()"
   ]
  },
  {
   "cell_type": "markdown",
   "metadata": {},
   "source": [
    "*ACCION:*\n",
    "<br>\n",
    "*Entendemos que la columna price_original, puede tener valores iguales para las diferentes observaciones*\n",
    "<br>\n",
    "*Por lo cual, no eliminamos segun los repetidos basados en esta columna*"
   ]
  },
  {
   "cell_type": "markdown",
   "metadata": {},
   "source": [
    "+ Columna 13: price_qualifier"
   ]
  },
  {
   "cell_type": "code",
   "execution_count": null,
   "metadata": {},
   "outputs": [],
   "source": [
    "# Verificamos la cantidad de duplicados por esta columna\n",
    "df_alquileres['price_qualifier'].duplicated(keep=\"first\").sum()"
   ]
  },
  {
   "cell_type": "markdown",
   "metadata": {},
   "source": [
    "*ACCION:*\n",
    "<br>\n",
    "*Entendemos que la columna price_qualifier, puede tener valores iguales para las diferentes observaciones*\n",
    "<br>\n",
    "*Por lo cual, no eliminamos segun los repetidos basados en esta columna*"
   ]
  },
  {
   "cell_type": "markdown",
   "metadata": {},
   "source": [
    "+ Columna 14: cant_resultados"
   ]
  },
  {
   "cell_type": "code",
   "execution_count": null,
   "metadata": {},
   "outputs": [],
   "source": [
    "# Verificamos los duplicados\n",
    "df_alquileres['cant_resultados'].duplicated(keep=\"first\").sum()"
   ]
  },
  {
   "cell_type": "markdown",
   "metadata": {},
   "source": [
    "*ACCION:*\n",
    "<br>\n",
    "*Entendemos que la columna cant_resultados, puede tener valores iguales para las diferentes observaciones*\n",
    "<br>\n",
    "*Por lo cual, no eliminamos segun los repetidos basados en esta columna*"
   ]
  },
  {
   "cell_type": "markdown",
   "metadata": {},
   "source": [
    "Columna 15: fecha_scrapping"
   ]
  },
  {
   "cell_type": "code",
   "execution_count": null,
   "metadata": {},
   "outputs": [],
   "source": [
    "# Verificamos los duplicados\n",
    "df_alquileres['fecha_scrapping'].duplicated(keep=\"first\").sum()"
   ]
  },
  {
   "cell_type": "markdown",
   "metadata": {},
   "source": [
    "*ACCION:*\n",
    "<br>\n",
    "*Entendemos que la columna fecha_scrapping, puede tener valores iguales para las diferentes observaciones*\n",
    "<br>\n",
    "*Por lo cual, no eliminamos segun los repetidos basados en esta columna*"
   ]
  },
  {
   "cell_type": "markdown",
   "metadata": {},
   "source": [
    "+ Columna 16: fecha_cambio_bna"
   ]
  },
  {
   "cell_type": "code",
   "execution_count": null,
   "metadata": {},
   "outputs": [],
   "source": [
    "# Verificamos los duplicados\n",
    "df_alquileres['fecha_cambio_bna'].duplicated(keep=\"first\").sum()"
   ]
  },
  {
   "cell_type": "markdown",
   "metadata": {},
   "source": [
    "*ACCION:*\n",
    "<br>\n",
    "*Entendemos que la columna fecha_cambio_bna, puede tener valores iguales para las diferentes observaciones*\n",
    "<br>\n",
    "*Por lo cual, no eliminamos segun los repetidos basados en esta columna*"
   ]
  },
  {
   "cell_type": "markdown",
   "metadata": {},
   "source": [
    "+ Columna 17: cambio_bna"
   ]
  },
  {
   "cell_type": "code",
   "execution_count": null,
   "metadata": {},
   "outputs": [],
   "source": [
    "# Verificamos los duplicados\n",
    "df_alquileres['cambio_bna'].duplicated(keep=\"first\").sum()"
   ]
  },
  {
   "cell_type": "markdown",
   "metadata": {},
   "source": [
    "*ACCION:*\n",
    "<br>\n",
    "*Entendemos que la columna cambio_bna, puede tener valores iguales para las diferentes observaciones*\n",
    "<br>\n",
    "*Por lo cual, no eliminamos segun los repetidos basados en esta columna*"
   ]
  },
  {
   "cell_type": "markdown",
   "metadata": {},
   "source": [
    "+ Columna 18: provincia"
   ]
  },
  {
   "cell_type": "code",
   "execution_count": null,
   "metadata": {},
   "outputs": [],
   "source": [
    "# Verificamos los duplicados\n",
    "df_alquileres['provincia'].duplicated(keep=\"first\").sum()"
   ]
  },
  {
   "cell_type": "markdown",
   "metadata": {},
   "source": [
    "*ACCION:*\n",
    "<br>\n",
    "*Entendemos que la columna provincia, puede tener valores iguales para las diferentes observaciones*\n",
    "<br>\n",
    "*Por lo cual, no eliminamos segun los repetidos basados en esta columna*"
   ]
  },
  {
   "cell_type": "markdown",
   "metadata": {},
   "source": [
    "*OBSERVACION GENERAL*\n",
    "<br>\n",
    "*En general entendemos que la mayoria de las columnas podrian tener valores repetidos evaluandolas individualmente.*\n",
    "<br>\n",
    "*Pero si consideramos que la variable id_alojamiento identifica de manera biunivoca un alojamiento.*\n",
    "<br>\n",
    "*Podemos decir que no es lo mismo, un duplicado en la columna id_alojamiento(que no deberia tener valores repetidos), que un duplicado en la columna price_original,*\n",
    "<br>\n",
    "*(que podria perfectamente tener valores repetidos en la seria).*\n"
   ]
  },
  {
   "cell_type": "markdown",
   "metadata": {},
   "source": [
    "**<h1>3. Análisis de datos faltantes y limpieza</h1>**"
   ]
  },
  {
   "cell_type": "markdown",
   "metadata": {},
   "source": [
    "+ Mostrar el porcentaje de datos faltantes de cada columna"
   ]
  },
  {
   "cell_type": "code",
   "execution_count": null,
   "metadata": {},
   "outputs": [],
   "source": [
    "# Verificacion inicial del dataset\n",
    "df_alquileres.info()"
   ]
  },
  {
   "cell_type": "markdown",
   "metadata": {},
   "source": [
    "*En primera instancia observamos que solo nos quedan dos columnas con datos faltantes: rating y price_discounted*\n",
    "<br>\n",
    "*Para rating, tenenmos un 81.90 % de faltantes (842 de 1028).*\n",
    "<br>\n",
    "*Para rating, tenenmos un 18.58 % de faltantes (191 de 1028).*\n"
   ]
  },
  {
   "cell_type": "markdown",
   "metadata": {},
   "source": [
    "+ ¿Cuáles son las 3 columnas con más datos faltantes?"
   ]
  },
  {
   "cell_type": "markdown",
   "metadata": {},
   "source": [
    "*En nuestra observacion inicial, en principio tenemos dos columnas con datos faltantes solamente: rating y price_discounted*"
   ]
  },
  {
   "cell_type": "markdown",
   "metadata": {},
   "source": [
    "**LIMPIEZA DE DE DATOS POR COLUMNAS**"
   ]
  },
  {
   "cell_type": "code",
   "execution_count": null,
   "metadata": {},
   "outputs": [],
   "source": [
    "df_alquileres.info()"
   ]
  },
  {
   "cell_type": "markdown",
   "metadata": {},
   "source": [
    "+ Columna 0: id_alojamiento"
   ]
  },
  {
   "cell_type": "code",
   "execution_count": null,
   "metadata": {},
   "outputs": [],
   "source": [
    "df_alquileres['id_alojamiento'].nunique()"
   ]
  },
  {
   "cell_type": "code",
   "execution_count": null,
   "metadata": {},
   "outputs": [],
   "source": [
    "df_alquileres['id_alojamiento'].isna().sum()"
   ]
  },
  {
   "cell_type": "markdown",
   "metadata": {},
   "source": [
    "+ Columna 1: name"
   ]
  },
  {
   "cell_type": "code",
   "execution_count": null,
   "metadata": {},
   "outputs": [],
   "source": [
    "sorted(df_alquileres['name'].unique())"
   ]
  },
  {
   "cell_type": "markdown",
   "metadata": {},
   "source": [
    "+ Columna 2: category"
   ]
  },
  {
   "cell_type": "code",
   "execution_count": null,
   "metadata": {},
   "outputs": [],
   "source": [
    "# Vemos que tiene valores bien definidos, que no necesitan normalizar\n",
    "df_alquileres['category'].unique()"
   ]
  },
  {
   "cell_type": "code",
   "execution_count": null,
   "metadata": {},
   "outputs": [],
   "source": [
    "# Verificamos que no tienen  na\n",
    "df_alquileres['category'].isna().sum()"
   ]
  },
  {
   "cell_type": "code",
   "execution_count": null,
   "metadata": {},
   "outputs": [],
   "source": [
    "# Cambiamos el tipo de la serie\n",
    "df_alquileres['category'] = df_alquileres['category'].astype('category')"
   ]
  },
  {
   "cell_type": "markdown",
   "metadata": {},
   "source": [
    "+ Columna 3: rating"
   ]
  },
  {
   "cell_type": "code",
   "execution_count": null,
   "metadata": {},
   "outputs": [],
   "source": [
    "# Vemos que tiene valores bien definidos, que no necesitan normalizar\n",
    "df_alquileres['rating'].unique()"
   ]
  },
  {
   "cell_type": "code",
   "execution_count": null,
   "metadata": {},
   "outputs": [],
   "source": [
    "# Observamos que existen valores na y uno que seria \"Nuevo\"\n",
    "# Reemplazamos el valor Nuevo por na\n",
    "mask = df_alquileres['rating'].str.lower().str.contains('nuevo', na = False)\n",
    "df_alquileres.loc[mask, 'rating'] = np.NaN"
   ]
  },
  {
   "cell_type": "code",
   "execution_count": null,
   "metadata": {},
   "outputs": [],
   "source": [
    "# Tratamiento de la columna rating\n",
    "# Separamos los valores correspondientes para limpiarlos\n",
    "df_rating= df_alquileres['rating'].str.split(pat=\"[ ]\",expand=True).add_prefix('Columna')\n",
    "# Renombramos las columnas\n",
    "df_rating.rename(columns={\"Columna0\": \"rating\", \"Columna1\": \"votaciones\"}, inplace=True)"
   ]
  },
  {
   "cell_type": "code",
   "execution_count": null,
   "metadata": {},
   "outputs": [],
   "source": [
    "# Limpiamos los valores para la columna rating\n",
    "df_rating['rating'] = df_rating['rating'].replace(',','.')"
   ]
  },
  {
   "cell_type": "code",
   "execution_count": null,
   "metadata": {},
   "outputs": [],
   "source": [
    "# Reemplazamos la columna por punto para la columna rating y lo cambiamos de tipo\n",
    "df_rating['rating'] = df_rating['rating'].str.replace(',', '.')\n",
    "df_rating['rating'] = df_rating['rating'].astype('float64')"
   ]
  },
  {
   "cell_type": "code",
   "execution_count": null,
   "metadata": {},
   "outputs": [],
   "source": [
    "df_rating.info()"
   ]
  },
  {
   "cell_type": "code",
   "execution_count": null,
   "metadata": {},
   "outputs": [],
   "source": [
    "# Limpiamos la columna de votaciones para cambiarle el tipo\n",
    "df_rating['votaciones'] = df_rating['votaciones'].str.replace('(', '').str.replace(')', '')\n",
    "df_rating['votaciones'] = np.floor(pd.to_numeric(df_rating['votaciones'], errors='coerce')).astype('Int64')\n"
   ]
  },
  {
   "cell_type": "code",
   "execution_count": null,
   "metadata": {},
   "outputs": [],
   "source": [
    "#  Rellenamos los valores para las columnas rating y votaciones\n",
    "# Rellenamos con un valor promedio, pero establecemos que no tiene votaciones\n",
    "media_rating = df_rating['rating'].mean()\n",
    "media_votaciones = np.floor(df_rating['votaciones'].mean())\n",
    "df_rating.fillna({'rating':media_rating,'votaciones':media_votaciones},inplace= True)\n"
   ]
  },
  {
   "cell_type": "code",
   "execution_count": null,
   "metadata": {},
   "outputs": [],
   "source": [
    "# Enriquecemos el dataframe de alquileres con las columnas de rating y votaciones\n",
    "df_alquileres= df_alquileres.merge(df_rating,how='left',left_index=True,right_index=True,suffixes=('', '_y'))\n",
    "df_alquileres[['rating_y','votaciones']].head()\n"
   ]
  },
  {
   "cell_type": "code",
   "execution_count": null,
   "metadata": {},
   "outputs": [],
   "source": [
    "# Actualizamos las columnas del dataframe rating y votaciones\n",
    "df_alquileres['rating']= df_alquileres['rating_y']\n",
    "df_alquileres = df_alquileres.drop('rating_y',axis=1)\n",
    "df_alquileres.info()\n"
   ]
  },
  {
   "cell_type": "markdown",
   "metadata": {},
   "source": [
    "+ Agregamos la columna: best_reviews"
   ]
  },
  {
   "cell_type": "code",
   "execution_count": null,
   "metadata": {},
   "outputs": [],
   "source": [
    "df_alquileres['best_reviews'] = np.where(df_alquileres['rating']==5.0,True,False)\n",
    "df_alquileres.sample(10)"
   ]
  },
  {
   "cell_type": "code",
   "execution_count": null,
   "metadata": {},
   "outputs": [],
   "source": [
    "# Porcentaje de moejores reviews\n",
    "mejores = df_alquileres[df_alquileres[\"best_reviews\"]]['best_reviews'].count()\n",
    "no_mejores = df_alquileres[~df_alquileres[\"best_reviews\"]]['best_reviews'].count()\n",
    "porc = mejores /(mejores+no_mejores)*100\n",
    "print(f\"La cantidad de mejores reseñas es de :{mejores} y corresponde a un {porc} %.\")"
   ]
  },
  {
   "cell_type": "markdown",
   "metadata": {},
   "source": [
    "+ Columna 4: city"
   ]
  },
  {
   "cell_type": "code",
   "execution_count": null,
   "metadata": {},
   "outputs": [],
   "source": [
    "# Vemos que tiene valores bien definidos, que no necesitan normalizar\n",
    "df_alquileres['city'].unique()"
   ]
  },
  {
   "cell_type": "code",
   "execution_count": null,
   "metadata": {},
   "outputs": [],
   "source": [
    "# Como vemos que varias ciudades son la misma pero con alguna diferencia tipografica, tratamos de normalizar los valores\n",
    "df_alquileres['city'] = df_alquileres['city'].str.strip().str.upper()\n",
    "df_alquileres.head()"
   ]
  },
  {
   "cell_type": "code",
   "execution_count": null,
   "metadata": {},
   "outputs": [],
   "source": [
    "# Quitamos los tildes\n",
    "df_alquileres['city'] = df_alquileres['city'].str.normalize('NFKD').str.encode('ascii', errors='ignore').str.decode('utf-8')\n",
    "df_alquileres.head()"
   ]
  },
  {
   "cell_type": "code",
   "execution_count": null,
   "metadata": {},
   "outputs": [],
   "source": [
    "# Recopilamos los datos de ciudades que tienen lugeres turisicos, segun la provincia, para tratar de agruparlas\n",
    "aux_ciudades = pd.read_csv('https://raw.githubusercontent.com/carlos1680/CPEDWObligatorio/main/Provincias_Ciudades.csv',sep= ';',encoding='latin1')\n",
    "aux_ciudades['ciudad'] = aux_ciudades['ciudad'].str.upper().str.strip()\n",
    "aux_ciudades['ciudad'] = aux_ciudades['ciudad'].str.normalize(\n",
    "    'NFKD').str.encode('ascii', errors='ignore').str.decode('utf-8')\n",
    "aux_ciudades.head()"
   ]
  },
  {
   "cell_type": "code",
   "execution_count": null,
   "metadata": {},
   "outputs": [],
   "source": [
    "# Creamos una columna city2, que va a a guardar los valores resultantes para city\n",
    "df_alquileres['city2'] = df_alquileres['city']\n",
    "\n",
    "\n",
    "# Parametros para los cuales buscar la mejor aproximacion por fuzzy\n",
    "provincias = ['TIERRA DEL FUEGO', 'NEUQUEN', 'RIO NEGRO', 'CHUBUT']\n",
    "# Valres de match que aceptamos\n",
    "aprobaciones = [80, 80, 80, 80]\n",
    "\n",
    "# rr=0;\n",
    "# iter=0\n",
    "# Iteramos por indice, para provincias y aprobaciones\n",
    "for indice in range((len(provincias))):\n",
    "    # Iteramos  por cada ciudad segun la provincia\n",
    "    for _, row in df_alquileres.loc[df_alquileres['provincia']==provincias[indice]].iterrows():\n",
    "        ciudad_probar = str(row['city'])\n",
    "        #aloj=-1\n",
    "        #iter+=1\n",
    "        max_coincidencia=0\n",
    "        encontro = False\n",
    "        # Recorremos la lista de ciudades de la provincia recabados para verificar\n",
    "        for valor_correcto in aux_ciudades.loc[aux_ciudades['provincia'] == provincias[indice]]['ciudad']:            \n",
    "            # Obtenemos el ratio de coincidencia\n",
    "            coincidencia = fuzz.ratio(ciudad_probar, valor_correcto)\n",
    "            #print(f\"Iteraccion: {iter},id_Alojamiento:{row['id_alojamiento']} index: {_} ==== Comparo {ciudad_probar} de {str(row['provincia'])} , con {valor_correcto} de {provincias[indice]}. Resultdo {coincidencia}\")\n",
    "            # Si el puntaje de la coincidencia es mayor que la vigente\n",
    "            if coincidencia > max_coincidencia:\n",
    "                # Guardar el valor correcto\n",
    "                correccion = valor_correcto\n",
    "                # Reemplazar el puntaje\n",
    "                max_coincidencia = coincidencia                \n",
    "                if (coincidencia > max_coincidencia) & (max_coincidencia >= aprobaciones[indice]):\n",
    "                    # Guardar el valor correcto\n",
    "                    correccion = valor_correcto\n",
    "                    # Reemplazar el puntaje\n",
    "                    max_coincidencia = coincidencia\n",
    "                    # Reemplazo por el mejor valor aproximado, en la columna auxiliar\n",
    "                    df_alquileres['city2']=correccion\n",
    "                    # Aviso que encontre algo\n",
    "                    encontro = True\n",
    "        # Si no encontre una coincidencia suficiente, cambio de macheo\n",
    "        if( not encontro):\n",
    "            # Recorremos la lista de departamentos\n",
    "            max_coincidencia_parcial = 0            \n",
    "            for valor_correcto_parcial in aux_ciudades.loc[aux_ciudades['provincia'] == provincias[indice]]['ciudad']:\n",
    "                # Obtenemos el ratio de coincidencia\n",
    "                coincidencia_parcial = fuzz.partial_ratio(ciudad_probar, valor_correcto_parcial)\n",
    "                # print(f\"Iteraccion: {iter},id_Alojamiento:{row['id_alojamiento']} index: {_} ==== Comparo {ciudad_probar} de {str(row['provincia'])} , con {valor_correcto_parcial} de {provincias[indice]}. Resultdo {coincidencia_parcial}\")\n",
    "                # Si el puntaje de la coincidencia es mayor que la vigente\n",
    "                if coincidencia_parcial > max_coincidencia_parcial:\n",
    "                    # Guardar el valor correcto\n",
    "                    correccion_parcial = valor_correcto_parcial\n",
    "                    # Reemplazar el puntaje\n",
    "                    max_coincidencia_parcial = coincidencia_parcial\n",
    "                    if (coincidencia_parcial > max_coincidencia_parcial) & (max_coincidencia_parcial >= aprobaciones[indice]):\n",
    "                        # Guardar el valor correcto\n",
    "                        correccion_parcial = valor_correcto_parcial\n",
    "                        # Reemplazar el puntaje\n",
    "                        max_coincidencia_parial = coincidencia_parcial                        \n",
    "                        # Asigno el mejor valor posible encontrado\n",
    "                        df_alquileres['city2']=correccion_parcial\n",
    "                        encontro = True\n",
    "                        \n",
    "                        \n",
    "# En caso de que no se cumpla con las condiciones del macheo, mantiene el valor para ciudad inicial\n",
    "            "
   ]
  },
  {
   "cell_type": "code",
   "execution_count": null,
   "metadata": {},
   "outputs": [],
   "source": [
    "# Tenemos cuatro alojamientos que no tienen ciudad ingresada\n",
    "df_alquileres['city'].isna().sum()"
   ]
  },
  {
   "cell_type": "code",
   "execution_count": null,
   "metadata": {},
   "outputs": [],
   "source": [
    "# Consideramos que la ciudad es un dato importante, y por la cantidad la accion a tomar es elimnar esos 4 registros. Pero como en este analisis no require el uso de la columna city. lo dejamos\n",
    "# df_alquileres.dropna(subset=['city'],inplace= True)"
   ]
  },
  {
   "cell_type": "code",
   "execution_count": null,
   "metadata": {},
   "outputs": [],
   "source": [
    "# Asignamos los nuevos valores a city y eliminamos la columna city2\n",
    "df_alquileres['city']=df_alquileres['city2']\n",
    "df_alquileres = df_alquileres.drop('city2', axis=1)"
   ]
  },
  {
   "cell_type": "code",
   "execution_count": null,
   "metadata": {},
   "outputs": [],
   "source": [
    "df_alquileres.groupby(by='city',observed=True)['city'].count()"
   ]
  },
  {
   "cell_type": "code",
   "execution_count": null,
   "metadata": {},
   "outputs": [],
   "source": []
  },
  {
   "cell_type": "code",
   "execution_count": null,
   "metadata": {},
   "outputs": [],
   "source": [
    "# Cambiamos el tipo de datos de city\n",
    "df_alquileres['city'] = df_alquileres['city'].astype('category')"
   ]
  },
  {
   "cell_type": "markdown",
   "metadata": {},
   "source": [
    "+ Columna 5: latitude"
   ]
  },
  {
   "cell_type": "code",
   "execution_count": null,
   "metadata": {},
   "outputs": [],
   "source": [
    "df_alquileres['latitude'].info()"
   ]
  },
  {
   "cell_type": "code",
   "execution_count": null,
   "metadata": {},
   "outputs": [],
   "source": [
    "df_alquileres['latitude'].unique()"
   ]
  },
  {
   "cell_type": "code",
   "execution_count": null,
   "metadata": {},
   "outputs": [],
   "source": [
    "# No tenemos valores nulos\n",
    "df_alquileres['latitude'].isna().unique()"
   ]
  },
  {
   "cell_type": "markdown",
   "metadata": {},
   "source": [
    "+ Columna 6: longitude"
   ]
  },
  {
   "cell_type": "code",
   "execution_count": null,
   "metadata": {},
   "outputs": [],
   "source": [
    "df_alquileres['longitude'].info()"
   ]
  },
  {
   "cell_type": "code",
   "execution_count": null,
   "metadata": {},
   "outputs": [],
   "source": [
    "# No tenemos valores nulos\n",
    "# df_alquileres['longitude'].isna().unique()\n",
    "df_alquileres['longitude'].unique()"
   ]
  },
  {
   "cell_type": "code",
   "execution_count": null,
   "metadata": {},
   "outputs": [],
   "source": [
    "df_alquileres.info()"
   ]
  },
  {
   "cell_type": "markdown",
   "metadata": {},
   "source": [
    "+ Columna 7: characteristics"
   ]
  },
  {
   "cell_type": "code",
   "execution_count": null,
   "metadata": {},
   "outputs": [],
   "source": [
    "# Chequeo rapido de los valores de characteristics\n",
    "df_alquileres['characteristics'].unique()"
   ]
  },
  {
   "cell_type": "code",
   "execution_count": null,
   "metadata": {},
   "outputs": [],
   "source": [
    "# Creamos un dataframe auxiliar para trabajar con las caracteristicas\n",
    "df_caracteristicas = df_alquileres[['id_alojamiento','characteristics']]\n",
    "df_caracteristicas.sample(10)"
   ]
  },
  {
   "cell_type": "code",
   "execution_count": null,
   "metadata": {},
   "outputs": [],
   "source": [
    "# Generamos un dataframe auxiliar para poder determinar las diferentes caracteristicas posibles\n",
    "df_temp = df_caracteristicas['characteristics'].str.split(\n",
    "    pat=',', expand=True).add_prefix('Columna')\n",
    "# Juntamos los dos dataframes auxiliares\n",
    "df_caracteristicas = df_caracteristicas.merge(\n",
    "    df_temp, how='left', left_index=True, right_index=True, suffixes=('', '_y'))"
   ]
  },
  {
   "cell_type": "code",
   "execution_count": null,
   "metadata": {},
   "outputs": [],
   "source": [
    "# Agragamos columnas correspondientes para asignar los valores de caracteristicas a utilizar posteriormente, seteandolas a na\n",
    "df_caracteristicas['cama']=None\n",
    "df_caracteristicas['dormitorio']=None\n",
    "df_caracteristicas['baño']=None\n",
    "\n",
    "# df_caracteristicas['cama']=df_caracteristicas['cama'].astype('Int64')\n",
    "# df_caracteristicas['dormitorio']=df_caracteristicas['dormitorio'].astype('Int64')\n",
    "# df_caracteristicas['baño']=df_caracteristicas['baño'].astype('Int64')"
   ]
  },
  {
   "cell_type": "code",
   "execution_count": null,
   "metadata": {},
   "outputs": [],
   "source": [
    "# Como vimos que existen \"Monoambiente\", para esos alojamientos, ponemos dormitorio en 0\n",
    "df_caracteristicas['dormitorio']= np.where(df_caracteristicas['characteristics'].str.lower().str.contains('monoambiente'),0,None)"
   ]
  },
  {
   "cell_type": "code",
   "execution_count": null,
   "metadata": {},
   "outputs": [],
   "source": [
    "# EN ESTA SECCION TRATAMOS DE DETERMINAR LA CANTIDAD DE CAMAS, DORMITORIOS Y BAÑOS POR ALOJAMIENTO\n",
    "\n",
    "# Columnas a rellenar y texto a buscar\n",
    "busqueda = ['cama', 'dormitorio', 'baño']\n",
    "# Recorremos por la lista de busqueda\n",
    "for bus in busqueda:\n",
    "    # Iteramos en el dataframe de caracteristicas\n",
    "    for indice, fila in df_caracteristicas.iterrows():\n",
    "        # Variable para concatenar  y formar los nombres de columnas\n",
    "        ii = 2\n",
    "        # Loop para encontrar el posible valor para las camas, dormitorios y baños si no los tienen, dentro de las columnas que se generaron al hacer split\n",
    "        while (pd.isnull(df_caracteristicas.loc[indice,bus]) and (ii <= 14)):\n",
    "            # Nombre de columna con la cual trabajar\n",
    "            cc = 'Columna'+str(ii-2)\n",
    "            # Id de alojamiento de la fila\n",
    "            idd = fila['id_alojamiento']\n",
    "            # Valor de la columna, sobre el cual realizar la busqueda\n",
    "            val = fila[cc]\n",
    "            # si todavia no se ha encontrado un valor acorde\n",
    "            if(not pd.isnull(val)):\n",
    "                # Si existe un patron que corresponda al buscado: Nro y cama o dormitorio o baño\n",
    "                if bool(re.search(r'\\d '+bus,val)):\n",
    "                    # Obtenemos el valor que corresponde a la cantidad\n",
    "                    dato = re.search(r'\\d',val)                    \n",
    "                    # print(fila['id_alojamiento'], val,dato.group(0))\n",
    "                    # Asignamos el valor hallado en el dataframe de caracteristicas\n",
    "                    df_caracteristicas.loc[indice,bus]=dato.group(0)\n",
    "            # incrementamos la variabla para que salga, cuando terminen las columnas a buscar, aunque no lo encuentre\n",
    "            ii+=1\n",
    "            "
   ]
  },
  {
   "cell_type": "code",
   "execution_count": null,
   "metadata": {},
   "outputs": [],
   "source": [
    "df_caracteristicas.sample(20)\n"
   ]
  },
  {
   "cell_type": "code",
   "execution_count": null,
   "metadata": {},
   "outputs": [],
   "source": [
    "# Revision de na faltantes para la columna baño\n",
    "df_caracteristicas['baño'].info()\n"
   ]
  },
  {
   "cell_type": "code",
   "execution_count": null,
   "metadata": {},
   "outputs": [],
   "source": [
    "mask_baño = df_caracteristicas['baño'].isna()\n",
    "mask_dormitorio = df_caracteristicas['dormitorio'].isna()\n",
    "mask_cama = df_caracteristicas['cama'].isna()\n",
    "df_caracteristicas[(mask_baño & mask_dormitorio & mask_cama)]\n",
    "df_alquileres.loc[(df_alquileres['id_alojamiento'] == 13998536) | (df_alquileres['id_alojamiento'] == 20234351)]\n",
    "\n",
    "# Para estos casos en particular, consideramos que puedes ser una especie de lugar solamente, \n",
    "# donde NO tengan baños privados, que no tengan camas porque tengan que llevar bolsa para dormir, etc \n",
    "# Y ademas no se considera que tengan dormitorio\n",
    "\n",
    "df_caracteristicas['dormitorio']= np.where((mask_baño & mask_dormitorio & mask_cama),0,df_caracteristicas['dormitorio'])\n",
    "df_caracteristicas['cama']= np.where((mask_baño & mask_dormitorio & mask_cama),0,df_caracteristicas['cama'])\n",
    "df_caracteristicas['baño']= np.where((mask_baño & mask_dormitorio & mask_cama),0,df_caracteristicas['baño'])\n"
   ]
  },
  {
   "cell_type": "code",
   "execution_count": null,
   "metadata": {},
   "outputs": [],
   "source": [
    "# Observamos que no hay mas filas donde baño sea na que tenga datos faltantes en cama o dormitorio\n",
    "mask_baño = df_caracteristicas['baño'].isna()\n",
    "mask_dormitorio = df_caracteristicas['dormitorio'].isna()\n",
    "mask_cama = df_caracteristicas['cama'].isna()\n",
    "\n",
    "df_caracteristicas.loc[((mask_baño & mask_dormitorio) | (mask_baño & mask_cama)),['id_alojamiento','cama','baño','dormitorio']]"
   ]
  },
  {
   "cell_type": "code",
   "execution_count": null,
   "metadata": {},
   "outputs": [],
   "source": [
    "# Asignacion de al menos un baño\n",
    "df_caracteristicas.fillna({'baño':1},inplace= True)\n",
    "mask_baño = df_caracteristicas['baño'].isna()\n",
    "df_caracteristicas.loc[(mask_baño ),['id_alojamiento','cama','baño','dormitorio']]"
   ]
  },
  {
   "cell_type": "markdown",
   "metadata": {},
   "source": [
    "* Revision para la columna cama"
   ]
  },
  {
   "cell_type": "code",
   "execution_count": null,
   "metadata": {},
   "outputs": [],
   "source": [
    "# Revision de na faltantes para la columna baño\n",
    "df_caracteristicas['cama'].info()\n"
   ]
  },
  {
   "cell_type": "code",
   "execution_count": null,
   "metadata": {},
   "outputs": [],
   "source": [
    "mask_cama = df_caracteristicas['cama'].isna()\n",
    "df_caracteristicas.loc[(mask_cama)]"
   ]
  },
  {
   "cell_type": "code",
   "execution_count": null,
   "metadata": {},
   "outputs": [],
   "source": [
    "# Asumimos que estos registros, tienen al menos una cama (aunque sea sofacama)\n",
    "df_caracteristicas.fillna({'cama':1},inplace= True)\n",
    "mask_cama = df_caracteristicas['cama'].isna()\n",
    "df_caracteristicas.loc[(mask_cama)]"
   ]
  },
  {
   "cell_type": "markdown",
   "metadata": {},
   "source": [
    "* Revision de la columna dormitorio"
   ]
  },
  {
   "cell_type": "code",
   "execution_count": null,
   "metadata": {},
   "outputs": [],
   "source": [
    "df_caracteristicas['dormitorio'].info()"
   ]
  },
  {
   "cell_type": "code",
   "execution_count": null,
   "metadata": {},
   "outputs": [],
   "source": [
    "mask_dormitorio = df_caracteristicas['dormitorio'].isna()\n",
    "df_caracteristicas.loc[(mask_dormitorio)]"
   ]
  },
  {
   "cell_type": "code",
   "execution_count": null,
   "metadata": {},
   "outputs": [],
   "source": [
    "# Observamos que todos tienen alguna cama en las caracteristicas y asumimos, al menos 1 dormitorio en el alojamiento\n",
    "df_caracteristicas.fillna({'dormitorio':1},inplace= True)\n",
    "mask_dormitorio = df_caracteristicas['dormitorio'].isna()\n",
    "df_caracteristicas.loc[(mask_dormitorio)]"
   ]
  },
  {
   "cell_type": "code",
   "execution_count": null,
   "metadata": {},
   "outputs": [],
   "source": [
    "# Verificacion general, para asegurarnos que se asignaron todos los valores\n",
    "mask_baño = df_caracteristicas['baño'].isna()\n",
    "mask_dormitorio = df_caracteristicas['dormitorio'].isna()\n",
    "mask_cama = df_caracteristicas['cama'].isna()\n",
    "df_caracteristicas.loc[(mask_baño | mask_dormitorio | mask_cama),['id_alojamiento','cama','baño','dormitorio']]"
   ]
  },
  {
   "cell_type": "code",
   "execution_count": null,
   "metadata": {},
   "outputs": [],
   "source": [
    "df_aux= df_caracteristicas[['id_alojamiento','cama','dormitorio','baño']]\n",
    "df_alquileres = df_alquileres.merge(\n",
    "    df_aux,\n",
    "    left_index=False,\n",
    "    right_index=False,\n",
    "    left_on='id_alojamiento',\n",
    "    right_on='id_alojamiento',\n",
    "    how='left',\n",
    "    suffixes=('', '_y')        \n",
    ")\n",
    "df_alquileres.head()"
   ]
  },
  {
   "cell_type": "code",
   "execution_count": null,
   "metadata": {},
   "outputs": [],
   "source": [
    "df_alquileres.info()"
   ]
  },
  {
   "cell_type": "markdown",
   "metadata": {},
   "source": [
    "+ Columna 8: check_in"
   ]
  },
  {
   "cell_type": "code",
   "execution_count": null,
   "metadata": {},
   "outputs": [],
   "source": [
    "# Chequeo rapido de los valores de characteristics\n",
    "df_alquileres['check_in'].info()"
   ]
  },
  {
   "cell_type": "code",
   "execution_count": null,
   "metadata": {},
   "outputs": [],
   "source": [
    "df_alquileres['check_in']= pd.to_datetime(df_alquileres['check_in'],format='mixed')\n",
    "df_alquileres['check_in'].sample(10)"
   ]
  },
  {
   "cell_type": "markdown",
   "metadata": {},
   "source": [
    "+ Columna 9: check_out"
   ]
  },
  {
   "cell_type": "code",
   "execution_count": null,
   "metadata": {},
   "outputs": [],
   "source": [
    "# Chequeo rapido de los valores de characteristics\n",
    "df_alquileres['check_out'].info()"
   ]
  },
  {
   "cell_type": "code",
   "execution_count": null,
   "metadata": {},
   "outputs": [],
   "source": [
    "df_alquileres['check_out']= pd.to_datetime(df_alquileres['check_out'],format='mixed')\n",
    "df_alquileres['check_out'].sample(10)"
   ]
  },
  {
   "cell_type": "code",
   "execution_count": null,
   "metadata": {},
   "outputs": [],
   "source": [
    "df_alquileres.info()"
   ]
  },
  {
   "cell_type": "markdown",
   "metadata": {},
   "source": [
    "+ Columna 10: price_original"
   ]
  },
  {
   "cell_type": "code",
   "execution_count": null,
   "metadata": {},
   "outputs": [],
   "source": [
    "# Chequeo rapido de los valores de la colkumna\n",
    "df_alquileres['price_original'].info()"
   ]
  },
  {
   "cell_type": "code",
   "execution_count": null,
   "metadata": {},
   "outputs": [],
   "source": [
    "df_alquileres['price_original'].sample(15)"
   ]
  },
  {
   "cell_type": "code",
   "execution_count": null,
   "metadata": {},
   "outputs": [],
   "source": [
    "# Obtengo solo los valores para el precio original\n",
    "col = df_alquileres['price_original'].str.extract(pat=r'(\\d+)')\n",
    "df_alquileres['price_original']=col"
   ]
  },
  {
   "cell_type": "code",
   "execution_count": null,
   "metadata": {},
   "outputs": [],
   "source": [
    "df_alquileres['price_original']=df_alquileres['price_original'].astype('Int64')"
   ]
  },
  {
   "cell_type": "code",
   "execution_count": null,
   "metadata": {},
   "outputs": [],
   "source": [
    "df_alquileres['price_original'].unique()"
   ]
  },
  {
   "cell_type": "markdown",
   "metadata": {},
   "source": [
    "+ Columna 11: price_discounted"
   ]
  },
  {
   "cell_type": "code",
   "execution_count": null,
   "metadata": {},
   "outputs": [],
   "source": [
    "# Chequeo rapido de los valores de characteristics\n",
    "df_alquileres['price_discounted'].info()"
   ]
  },
  {
   "cell_type": "code",
   "execution_count": null,
   "metadata": {},
   "outputs": [],
   "source": [
    "df_alquileres['price_discounted'].sample(20)"
   ]
  },
  {
   "cell_type": "code",
   "execution_count": null,
   "metadata": {},
   "outputs": [],
   "source": [
    "# Creo la columna, que indica si el precio ya tiene descuento\n",
    "df_alquileres['discounted']=np.where(df_alquileres['price_discounted'].isna(),False,True)"
   ]
  },
  {
   "cell_type": "code",
   "execution_count": null,
   "metadata": {},
   "outputs": [],
   "source": [
    "df_alquileres[['price_discounted','discounted']].sample(20)"
   ]
  },
  {
   "cell_type": "code",
   "execution_count": null,
   "metadata": {},
   "outputs": [],
   "source": [
    "# df_alquileres['price_discounted1']=df_alquileres['price_discounted'].str.extract(pat='(\\d+)')\n",
    "col = df_alquileres['price_discounted'].str.extract(pat=r'(\\d+)')\n",
    "df_alquileres['price_discounted1']=col\n"
   ]
  },
  {
   "cell_type": "code",
   "execution_count": null,
   "metadata": {},
   "outputs": [],
   "source": [
    "df_alquileres[['price_original','price_discounted','discounted','price_discounted1']].sample(20)"
   ]
  },
  {
   "cell_type": "code",
   "execution_count": null,
   "metadata": {},
   "outputs": [],
   "source": [
    "df_alquileres['price_discounted1']=np.where( df_alquileres['price_discounted1'].isna(),df_alquileres['price_original'],df_alquileres['price_discounted1'])"
   ]
  },
  {
   "cell_type": "code",
   "execution_count": null,
   "metadata": {},
   "outputs": [],
   "source": [
    "df_alquileres['price_discounted'] = df_alquileres['price_discounted1']"
   ]
  },
  {
   "cell_type": "code",
   "execution_count": null,
   "metadata": {},
   "outputs": [],
   "source": [
    "df_alquileres[['price_original','price_discounted','discounted','price_discounted1']].sample(20)"
   ]
  },
  {
   "cell_type": "code",
   "execution_count": null,
   "metadata": {},
   "outputs": [],
   "source": [
    "df_alquileres = df_alquileres.drop('price_discounted1', axis=1)"
   ]
  },
  {
   "cell_type": "code",
   "execution_count": null,
   "metadata": {},
   "outputs": [],
   "source": [
    "df_alquileres[['price_original','price_discounted','discounted']].info()"
   ]
  },
  {
   "cell_type": "code",
   "execution_count": null,
   "metadata": {},
   "outputs": [],
   "source": [
    "df_alquileres['price_discounted'].unique()"
   ]
  },
  {
   "cell_type": "code",
   "execution_count": null,
   "metadata": {},
   "outputs": [],
   "source": [
    "df_alquileres['price_discounted']=(pd.to_numeric(df_alquileres['price_discounted'], errors='coerce')).astype('Int64')"
   ]
  },
  {
   "cell_type": "code",
   "execution_count": null,
   "metadata": {},
   "outputs": [],
   "source": [
    "df_alquileres[['price_original','price_discounted','discounted']].sample(20)"
   ]
  },
  {
   "cell_type": "markdown",
   "metadata": {},
   "source": [
    "+ Columna 12: price_qualifier"
   ]
  },
  {
   "cell_type": "code",
   "execution_count": null,
   "metadata": {},
   "outputs": [],
   "source": [
    "df_alquileres['price_qualifier'].info()"
   ]
  },
  {
   "cell_type": "code",
   "execution_count": null,
   "metadata": {},
   "outputs": [],
   "source": [
    "df_alquileres['price_qualifier'].unique()"
   ]
  },
  {
   "cell_type": "code",
   "execution_count": null,
   "metadata": {},
   "outputs": [],
   "source": [
    "df_alquileres['price_qualifier']= df_alquileres['price_qualifier'].astype('category')"
   ]
  },
  {
   "cell_type": "markdown",
   "metadata": {},
   "source": [
    "+ Columna 13: cant_resultados"
   ]
  },
  {
   "cell_type": "code",
   "execution_count": null,
   "metadata": {},
   "outputs": [],
   "source": [
    "df_alquileres['cant_resultados'].info()"
   ]
  },
  {
   "cell_type": "code",
   "execution_count": null,
   "metadata": {},
   "outputs": [],
   "source": [
    "df_alquileres['cant_resultados'].unique()"
   ]
  },
  {
   "cell_type": "code",
   "execution_count": null,
   "metadata": {},
   "outputs": [],
   "source": [
    "df_alquileres['cant_resultados'].sample(20)"
   ]
  },
  {
   "cell_type": "markdown",
   "metadata": {},
   "source": [
    "+ Columna 14: fecha_scrapping"
   ]
  },
  {
   "cell_type": "code",
   "execution_count": null,
   "metadata": {},
   "outputs": [],
   "source": [
    "df_alquileres['fecha_scrapping'].info()"
   ]
  },
  {
   "cell_type": "code",
   "execution_count": null,
   "metadata": {},
   "outputs": [],
   "source": [
    "df_alquileres['fecha_scrapping'].sample()"
   ]
  },
  {
   "cell_type": "code",
   "execution_count": null,
   "metadata": {},
   "outputs": [],
   "source": [
    "df_alquileres['fecha_scrapping']=pd.to_datetime(df_alquileres['fecha_scrapping'],format='mixed')"
   ]
  },
  {
   "cell_type": "markdown",
   "metadata": {},
   "source": [
    "+ Columna 15: fecha_cambio_bna"
   ]
  },
  {
   "cell_type": "code",
   "execution_count": null,
   "metadata": {},
   "outputs": [],
   "source": [
    "df_alquileres['fecha_cambio_bna'].info()"
   ]
  },
  {
   "cell_type": "code",
   "execution_count": null,
   "metadata": {},
   "outputs": [],
   "source": [
    "df_alquileres['fecha_cambio_bna'].sample()"
   ]
  },
  {
   "cell_type": "code",
   "execution_count": null,
   "metadata": {},
   "outputs": [],
   "source": [
    "df_alquileres['fecha_cambio_bna'].unique()"
   ]
  },
  {
   "cell_type": "code",
   "execution_count": null,
   "metadata": {},
   "outputs": [],
   "source": [
    "df_alquileres['fecha_cambio_bna']= pd.to_datetime(df_alquileres['fecha_cambio_bna'],format='mixed')"
   ]
  },
  {
   "cell_type": "markdown",
   "metadata": {},
   "source": [
    "+ Columna 16: cambio_bna"
   ]
  },
  {
   "cell_type": "code",
   "execution_count": null,
   "metadata": {},
   "outputs": [],
   "source": [
    "df_alquileres['cambio_bna'].info()"
   ]
  },
  {
   "cell_type": "code",
   "execution_count": null,
   "metadata": {},
   "outputs": [],
   "source": [
    "df_alquileres['cambio_bna'].sample(20)"
   ]
  },
  {
   "cell_type": "code",
   "execution_count": null,
   "metadata": {},
   "outputs": [],
   "source": [
    "df_alquileres['cambio_bna'].unique()"
   ]
  },
  {
   "cell_type": "code",
   "execution_count": null,
   "metadata": {},
   "outputs": [],
   "source": [
    "df_alquileres['cambio_bna']=df_alquileres['cambio_bna'].astype('float')"
   ]
  },
  {
   "cell_type": "markdown",
   "metadata": {},
   "source": [
    "+ Columna 17: provincia"
   ]
  },
  {
   "cell_type": "code",
   "execution_count": null,
   "metadata": {},
   "outputs": [],
   "source": [
    "df_alquileres['provincia']=df_alquileres['provincia'].astype('category')"
   ]
  },
  {
   "cell_type": "code",
   "execution_count": null,
   "metadata": {},
   "outputs": [],
   "source": [
    "# Ajustamos tipos de datos de las columnas cama, dormitorio, baño\n",
    "df_alquileres['cama']=(pd.to_numeric(df_alquileres['cama'], errors='coerce')).astype('Int64')\n",
    "df_alquileres['baño']=(pd.to_numeric(df_alquileres['baño'], errors='coerce')).astype('Int64')\n",
    "df_alquileres['dormitorio']=(pd.to_numeric(df_alquileres['dormitorio'], errors='coerce')).astype('Int64')"
   ]
  },
  {
   "cell_type": "code",
   "execution_count": null,
   "metadata": {},
   "outputs": [],
   "source": [
    "df_alquileres.info()"
   ]
  },
  {
   "cell_type": "markdown",
   "metadata": {},
   "source": [
    "**<h1>4. Análisis general de precios</h1>**"
   ]
  },
  {
   "cell_type": "markdown",
   "metadata": {},
   "source": [
    "* ¿Cuántos alquileres con descuento hay?"
   ]
  },
  {
   "cell_type": "code",
   "execution_count": 637,
   "metadata": {},
   "outputs": [
    {
     "name": "stdout",
     "output_type": "stream",
     "text": [
      "Tenemos 191 alojamientos que tienen descuentos.\n"
     ]
    }
   ],
   "source": [
    "print(f\"Tenemos {df_alquileres.discounted.sum()} alojamientos que tienen descuentos.\")"
   ]
  },
  {
   "cell_type": "markdown",
   "metadata": {},
   "source": [
    "* ¿Cuál es el alquiler más caro?"
   ]
  },
  {
   "cell_type": "code",
   "execution_count": 642,
   "metadata": {},
   "outputs": [
    {
     "data": {
      "text/html": [
       "<div>\n",
       "<style scoped>\n",
       "    .dataframe tbody tr th:only-of-type {\n",
       "        vertical-align: middle;\n",
       "    }\n",
       "\n",
       "    .dataframe tbody tr th {\n",
       "        vertical-align: top;\n",
       "    }\n",
       "\n",
       "    .dataframe thead th {\n",
       "        text-align: right;\n",
       "    }\n",
       "</style>\n",
       "<table border=\"1\" class=\"dataframe\">\n",
       "  <thead>\n",
       "    <tr style=\"text-align: right;\">\n",
       "      <th></th>\n",
       "      <th>id_alojamiento</th>\n",
       "      <th>price_discounted</th>\n",
       "    </tr>\n",
       "  </thead>\n",
       "  <tbody>\n",
       "    <tr>\n",
       "      <th>540</th>\n",
       "      <td>644276838771395202</td>\n",
       "      <td>699</td>\n",
       "    </tr>\n",
       "  </tbody>\n",
       "</table>\n",
       "</div>"
      ],
      "text/plain": [
       "         id_alojamiento  price_discounted\n",
       "540  644276838771395202               699"
      ]
     },
     "execution_count": 642,
     "metadata": {},
     "output_type": "execute_result"
    }
   ],
   "source": [
    "df_alquileres[['id_alojamiento','price_discounted']].sort_values(by='price_discounted',ascending=False).head(1)"
   ]
  },
  {
   "cell_type": "markdown",
   "metadata": {},
   "source": [
    "* ¿Cuál es el alquiler más barato?"
   ]
  },
  {
   "cell_type": "code",
   "execution_count": 645,
   "metadata": {},
   "outputs": [
    {
     "data": {
      "text/html": [
       "<div>\n",
       "<style scoped>\n",
       "    .dataframe tbody tr th:only-of-type {\n",
       "        vertical-align: middle;\n",
       "    }\n",
       "\n",
       "    .dataframe tbody tr th {\n",
       "        vertical-align: top;\n",
       "    }\n",
       "\n",
       "    .dataframe thead th {\n",
       "        text-align: right;\n",
       "    }\n",
       "</style>\n",
       "<table border=\"1\" class=\"dataframe\">\n",
       "  <thead>\n",
       "    <tr style=\"text-align: right;\">\n",
       "      <th></th>\n",
       "      <th>id_alojamiento</th>\n",
       "      <th>price_discounted</th>\n",
       "    </tr>\n",
       "  </thead>\n",
       "  <tbody>\n",
       "    <tr>\n",
       "      <th>370</th>\n",
       "      <td>13998536</td>\n",
       "      <td>9</td>\n",
       "    </tr>\n",
       "    <tr>\n",
       "      <th>404</th>\n",
       "      <td>22929455</td>\n",
       "      <td>9</td>\n",
       "    </tr>\n",
       "    <tr>\n",
       "      <th>395</th>\n",
       "      <td>13803835</td>\n",
       "      <td>9</td>\n",
       "    </tr>\n",
       "  </tbody>\n",
       "</table>\n",
       "</div>"
      ],
      "text/plain": [
       "     id_alojamiento  price_discounted\n",
       "370        13998536                 9\n",
       "404        22929455                 9\n",
       "395        13803835                 9"
      ]
     },
     "execution_count": 645,
     "metadata": {},
     "output_type": "execute_result"
    }
   ],
   "source": [
    "# Tenemos 3 alojamientos con el precio mas bajo\n",
    "df_alquileres[['id_alojamiento','price_discounted']].sort_values(by='price_discounted',ascending=True).head(3)"
   ]
  },
  {
   "cell_type": "markdown",
   "metadata": {},
   "source": [
    "* Mostrar 2 histogramas de los precios originales y los precios con descuento."
   ]
  },
  {
   "cell_type": "code",
   "execution_count": 663,
   "metadata": {},
   "outputs": [
    {
     "data": {
      "image/png": "[encoded data removed]",
      "text/plain": [
       "<Figure size 640x480 with 1 Axes>"
      ]
     },
     "metadata": {},
     "output_type": "display_data"
    }
   ],
   "source": [
    "sns.set_theme(style=\"darkgrid\")\n",
    "sns.histplot(data=df_alquileres, x=\"price_original\", color=\"skyblue\", label=\"Precio original\", kde=True)\n",
    "\n",
    "plt.legend() \n",
    "plt.show()"
   ]
  },
  {
   "cell_type": "code",
   "execution_count": 662,
   "metadata": {},
   "outputs": [
    {
     "data": {
      "image/png": "[encoded data removed]",
      "text/plain": [
       "<Figure size 640x480 with 1 Axes>"
      ]
     },
     "metadata": {},
     "output_type": "display_data"
    }
   ],
   "source": [
    "sns.set_theme(style=\"darkgrid\")\n",
    "\n",
    "sns.histplot(data=df_alquileres, x=\"price_discounted\", color=\"red\", label=\"Precio con descuento\", kde=True)\n",
    "plt.legend() \n",
    "plt.show()"
   ]
  },
  {
   "cell_type": "markdown",
   "metadata": {},
   "source": [
    "* ¿Observa alguna diferencia?"
   ]
  },
  {
   "cell_type": "markdown",
   "metadata": {},
   "source": [
    "Observamos que la proporcion de los precios es similar, lo que hay de diferente entre los precios originales y los que tienen descuento es que el maximo es diferente. Lo cual es logico."
   ]
  },
  {
   "cell_type": "markdown",
   "metadata": {},
   "source": [
    "**<h1>5. Discretización de precios</h1>**"
   ]
  },
  {
   "cell_type": "code",
   "execution_count": 664,
   "metadata": {},
   "outputs": [
    {
     "data": {
      "text/plain": [
       "count       1028.0\n",
       "mean     71.090467\n",
       "std      58.885053\n",
       "min            9.0\n",
       "25%           39.0\n",
       "50%           56.0\n",
       "75%           80.0\n",
       "max          699.0\n",
       "Name: price_original, dtype: Float64"
      ]
     },
     "execution_count": 664,
     "metadata": {},
     "output_type": "execute_result"
    }
   ],
   "source": [
    "df_alquileres['price_original'].describe()"
   ]
  },
  {
   "cell_type": "markdown",
   "metadata": {},
   "source": [
    "En base a lo observado, tomamo como ancho un bin de 250"
   ]
  },
  {
   "cell_type": "code",
   "execution_count": 665,
   "metadata": {},
   "outputs": [],
   "source": [
    "df_alquileres['price_category']=np.where(\n",
    "    df_alquileres['price_original']<250,'bajo',np.where(\n",
    "        ((df_alquileres['price_original']>=250) & (df_alquileres['price_original']<500)),'medio','alto'\n",
    "    )\n",
    ")"
   ]
  },
  {
   "cell_type": "code",
   "execution_count": 671,
   "metadata": {},
   "outputs": [
    {
     "data": {
      "text/plain": [
       "array(['bajo', 'medio', 'alto'], dtype=object)"
      ]
     },
     "execution_count": 671,
     "metadata": {},
     "output_type": "execute_result"
    }
   ],
   "source": [
    "df_alquileres['price_category'].unique()"
   ]
  },
  {
   "cell_type": "code",
   "execution_count": 673,
   "metadata": {},
   "outputs": [
    {
     "data": {
      "image/png": "[encoded data removed]",
      "text/plain": [
       "<Figure size 640x480 with 1 Axes>"
      ]
     },
     "metadata": {},
     "output_type": "display_data"
    }
   ],
   "source": [
    "sns.set_theme(style=\"darkgrid\")\n",
    "\n",
    "sns.histplot(data=df_alquileres, x=\"price_category\", color=\"red\", label=\"Categoria de precio\", kde=True)\n",
    "plt.legend() \n",
    "plt.show()"
   ]
  },
  {
   "cell_type": "code",
   "execution_count": 680,
   "metadata": {},
   "outputs": [
    {
     "data": {
      "text/plain": [
       "<Axes: xlabel='price_category', ylabel='price_original'>"
      ]
     },
     "execution_count": 680,
     "metadata": {},
     "output_type": "execute_result"
    },
    {
     "data": {
      "image/png": "[encoded data removed]",
      "text/plain": [
       "<Figure size 640x480 with 1 Axes>"
      ]
     },
     "metadata": {},
     "output_type": "display_data"
    }
   ],
   "source": [
    "sns.barplot(x=\"price_category\", y=\"price_original\", hue=\"price_category\", data=df_alquileres, errorbar=None)"
   ]
  }
 ],
 "metadata": {
  "kernelspec": {
   "display_name": "envWindows",
   "language": "python",
   "name": "python3"
  },
  "language_info": {
   "codemirror_mode": {
    "name": "ipython",
    "version": 3
   },
   "file_extension": ".py",
   "mimetype": "text/x-python",
   "name": "python",
   "nbconvert_exporter": "python",
   "pygments_lexer": "ipython3",
   "version": "3.12.0"
  }
 },
 "nbformat": 4,
 "nbformat_minor": 2
}
